{
 "cells": [
  {
   "cell_type": "code",
   "execution_count": 1,
   "metadata": {},
   "outputs": [
    {
     "data": {
      "text/plain": [
       "'\\n1. Supervised\\n - Already has categories.\\n - Labelled\\n - eg. Classifications, Regression\\n \\n2. Unsupervised\\n - Data that does not have labels. (Like CSV without no column and row heading)\\n - eg. Clustering -> Create groups by machine\\n \\n3. Reinforcement\\n - Teaching machine through trial and error, through rewards and punishments.\\n - eg. Plays a game, and tries to maximize the score. \\n - eg. Skill acquisition, Real Time Learning\\n \\n* All of these are learning from the data, and PREDICT the outcome.\\n'"
      ]
     },
     "execution_count": 1,
     "metadata": {},
     "output_type": "execute_result"
    }
   ],
   "source": [
    "# Machine Learning\n",
    "\n",
    "# Main: Able to predict results based on incoming data.\n",
    "\n",
    "#  -> Originally, we give input & function, machine provides output.\n",
    "#  -> Machine takes \"Input\" & \"Output\" from us, and it does the function for us. (Model)\n",
    "\n",
    "# Types of Machine Learning:\n",
    "'''\n",
    "1. Supervised\n",
    " - Already has categories.\n",
    " - Labelled\n",
    " - eg. Classifications, Regression\n",
    " \n",
    "2. Unsupervised\n",
    " - Data that does not have labels. (Like CSV without no column and row heading)\n",
    " - eg. Clustering -> Create groups by machine\n",
    " \n",
    "3. Reinforcement\n",
    " - Teaching machine through trial and error, through rewards and punishments.\n",
    " - eg. Plays a game, and tries to maximize the score. \n",
    " - eg. Skill acquisition, Real Time Learning\n",
    " \n",
    "* All of these are learning from the data, and PREDICT the outcome.\n",
    "'''"
   ]
  },
  {
   "cell_type": "code",
   "execution_count": 2,
   "metadata": {},
   "outputs": [],
   "source": [
    "# Machine Learning Steps\n",
    "\n",
    "# 1. Import the Data\n",
    "#  - eg. some sort of data like CSV\n",
    "\n",
    "# 2. Clean the Data\n",
    "#  - Sometimes data has missing label, unusable data, missing cells.\n",
    "\n",
    "# 3. Split the Data\n",
    "#  - Training Set (Input) & Test Set (Test the output)\n",
    "#  - Test Set to tell whether our model is good or bad.\n",
    "\n",
    "# 4. Create a Model\n",
    "#  - Import an algorithm -> Libraries like Scikit Learn & decide what algorithm to use.\n",
    "\n",
    "# 5. Check the Output with the Test Set\n",
    "\n",
    "# 6. Improvements\n",
    "#  - Add data, change algorithm, model."
   ]
  },
  {
   "cell_type": "code",
   "execution_count": null,
   "metadata": {},
   "outputs": [],
   "source": [
    "# Tools to use for Machine Learning\n",
    "#  -> NumPy: A must, helps to use lists and arrays, multi-dimensional arrays.\n",
    "#  -> Pandas: For data analysis, gives an idea of data frame. \n",
    "#             Manipulate data in tabular structure with rows and columns. Work with data like CSV files.\n",
    "#  -> Scikit-Learn: Library prebuilt with different algorithm\n",
    "#  -> Matplotlib: Charting library, visualize data in a nice way.\n",
    "#  -> Kaggle: A community of machine learning experts, free access to data sets."
   ]
  }
 ],
 "metadata": {
  "kernelspec": {
   "display_name": "Python [conda env:data_science_playground]",
   "language": "python",
   "name": "conda-env-data_science_playground-py"
  },
  "language_info": {
   "codemirror_mode": {
    "name": "ipython",
    "version": 3
   },
   "file_extension": ".py",
   "mimetype": "text/x-python",
   "name": "python",
   "nbconvert_exporter": "python",
   "pygments_lexer": "ipython3",
   "version": "3.10.8"
  }
 },
 "nbformat": 4,
 "nbformat_minor": 4
}
