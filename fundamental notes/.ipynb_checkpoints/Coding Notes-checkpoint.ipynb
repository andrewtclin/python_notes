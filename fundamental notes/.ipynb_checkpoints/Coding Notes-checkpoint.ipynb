{
 "cells": [
  {
   "cell_type": "code",
   "execution_count": 3,
   "metadata": {},
   "outputs": [
    {
     "data": {
      "text/plain": [
       "\"\\n - Functions as function itself\\n - Methods exist in an object/class\\n \\n - For functions, use -> ''' abc ''', and wrap function or call function with help() or .__doc__, it shows dot string info\\n\""
      ]
     },
     "execution_count": 3,
     "metadata": {},
     "output_type": "execute_result"
    }
   ],
   "source": [
    "# Methods & Functions\n",
    "'''\n",
    " - Functions as function itself\n",
    " - Methods exist in an object/class\n",
    " \n",
    " - For functions, use -> \\''' abc \\''', and wrap function or call function with help() or .__doc__, it shows dot string info\n",
    "'''"
   ]
  },
  {
   "cell_type": "code",
   "execution_count": 9,
   "metadata": {},
   "outputs": [
    {
     "data": {
      "text/plain": [
       "30"
      ]
     },
     "execution_count": 9,
     "metadata": {},
     "output_type": "execute_result"
    }
   ],
   "source": [
    "# *args & **kwargs (arguments and keywork arguments)\n",
    "def demo_func(*args, **kwargs):\n",
    "    # args represents ONLY 1 parameter\n",
    "    # *args => as many as args as you want\n",
    "    # **kwargs => provide any keyword arguments\n",
    "    total = 0\n",
    "    for items in kwargs.values():\n",
    "        total += items\n",
    "    return sum(args) + total\n",
    "\n",
    "demo_func(1,2,3,4,5, num1=5, num2=10)\n",
    "\n",
    "# Rule: params, *args, default parameters, **kwargs"
   ]
  },
  {
   "cell_type": "code",
   "execution_count": 12,
   "metadata": {},
   "outputs": [
    {
     "name": "stdout",
     "output_type": "stream",
     "text": [
      "too long 11 elements\n",
      "too long 11 elements\n"
     ]
    }
   ],
   "source": [
    "# Walrus Operator :=\n",
    "# Assign variable to a part of larger expression\n",
    "a = 'demo_string'\n",
    "\n",
    "if len(a) > 10:\n",
    "    print(f\"too long {len(a)} elements\")\n",
    "    \n",
    "if ((n := len(a)) > 10):\n",
    "    print(f\"too long {n} elements\")"
   ]
  },
  {
   "cell_type": "code",
   "execution_count": 14,
   "metadata": {},
   "outputs": [
    {
     "name": "stdout",
     "output_type": "stream",
     "text": [
      "inner: nonlocal\n",
      "outer: nonlocal\n"
     ]
    }
   ],
   "source": [
    "# Scope - global\n",
    "total = 0\n",
    "def count():\n",
    "    # total += 1\n",
    "    # NO, count does NOT know local variable total\n",
    "    \n",
    "    # If we want to use global variable\n",
    "    global total\n",
    "    total += 1\n",
    "    return total\n",
    "    # But not a good way\n",
    "    \n",
    "# Scope - nonlocal\n",
    "def outer():\n",
    "    x = \"local\"\n",
    "    def inner():\n",
    "        nonlocal x\n",
    "        # Use variable that is NOT Global, but is OUTSIDE scope of this function = PARENT Scope\n",
    "        x = \"nonlocal\" # This replaces the outer's x\n",
    "        print(\"inner:\", x)\n",
    "    \n",
    "    inner()\n",
    "    print(\"outer:\", x)\n",
    "    \n",
    "outer()"
   ]
  },
  {
   "cell_type": "code",
   "execution_count": 27,
   "metadata": {},
   "outputs": [
    {
     "name": "stdout",
     "output_type": "stream",
     "text": [
      "run\n",
      "my name is ABC, and I am 100 years old\n"
     ]
    }
   ],
   "source": [
    "# Object / Class\n",
    "\n",
    "# Create a wizard game like harry potter\n",
    "class PlayerCharacter:\n",
    "    membership = True # Class Object Attribute\n",
    "    \n",
    "    def __init__(self, name, age=18): # Constructor -> Automatically call at anytime we instantiate\n",
    "        # self = default parameter, refers to the PlayerCharacter itself\n",
    "        if PlayerCharacter.membership and age >= 18:\n",
    "            self._name = name # PRIVATE variable\n",
    "            self.age = age\n",
    " \n",
    "    def run(self):\n",
    "        print('run')\n",
    "        \n",
    "    def speak(self):\n",
    "        print(f'my name is {self.name}, and I am {self.age} years old')\n",
    "        \n",
    "    @classmethod # decorator\n",
    "    def adding_things(cls, num1, num2): # \"cls\" refers to \"PlayerCharacter\" but a bit different from \"self\"\n",
    "        return num1 + num2\n",
    "    # return cls('Teddy', num1 + num2) -> can instantiate an object directly\n",
    "    \n",
    "    @staticmethod # decorator\n",
    "    def adding_things2(num1, num2): # Exact same way BUT NO access to cls/class\n",
    "        return num1 + num2\n",
    "   \n",
    "        \n",
    "    # name = attribute -> Data that is dynamic with \"self\"\n",
    "    # membership = Class Object Attribute -> NOT dynamic but static, does not change across instances\n",
    "    # run = method\n",
    "    # \"@classmethod\" -> Able to use this with NO instantiating\n",
    "    #   -> can just do PlayerCharacter.adding_things, but NOT use often\n",
    "    #   -> player3 = PlayerCharacter.adding_things(2,3) ==> Created by classmethod\n",
    "    # \"@staticmethod\" -> when we do NOT care anything about the class state\n",
    "    #  with \"_\" => This means it is a private variabe\n",
    "    \n",
    "player1 = PlayerCharacter('ABC', 100)\n",
    "player1.run()\n",
    "player1.speak()"
   ]
  },
  {
   "cell_type": "code",
   "execution_count": 38,
   "metadata": {},
   "outputs": [
    {
     "name": "stdout",
     "output_type": "stream",
     "text": [
      "attack\n",
      "attacking with power of 50\n",
      "attacking with arrows: arrows left - 29\n",
      "True\n",
      "attack\n",
      "attacking with power of 50\n",
      "logged in\n"
     ]
    }
   ],
   "source": [
    "# Inheritance\n",
    "\n",
    "class User(object):\n",
    "    def __init__(self, email):\n",
    "        self.email = email\n",
    "    \n",
    "    # If no variable, __init__ is not required\n",
    "    def sign_in(self):\n",
    "        print('logged in')\n",
    "        \n",
    "    def attack(self):\n",
    "        print('attack') # will be overrided\n",
    "        \n",
    "class Wizard(User):\n",
    "    def __init__(self, name, power, email):\n",
    "#         User.__init__(self, email) # calling Parent Class\n",
    "        super().__init__(email) # calling Parent Class / super class\n",
    "        self.name = name\n",
    "        self.power = power\n",
    "        \n",
    "    def attack(self):\n",
    "#         User.attack(self) # Uses user's original function\n",
    "        print(f'attacking with power of {self.power}')\n",
    "\n",
    "class Archer(User):\n",
    "    def __init__(self, name, num_arrows):\n",
    "        self.name = name\n",
    "        self.arrows = arrows\n",
    "        \n",
    "    def check_arrows(self):\n",
    "        print(f'arrows left - {self.arrows}')\n",
    "        \n",
    "    def run(self):\n",
    "        print('ran really fast')\n",
    "\n",
    "class HybridBorg(Wizard, Archer): # Multiple Inheritance\n",
    "    def __init__(self, name, power, arrows):\n",
    "        Archer.__init__(self, name, arrows)\n",
    "        Wizard.__init__(self, name, power)\n",
    "      \n",
    "hb1 = HybridBorg('borgie', 50, 100) # In order to access attributes from different classes inherited\n",
    "    \n",
    "# Pass in the class into class parameter, it is inherited\n",
    "# super() refers to parent class\n",
    "\n",
    "'''\n",
    "wizard1 = Wizard('Merlin', 50, 'merlin@gmail.com')\n",
    "archer1 = Archer('Robin', 30)\n",
    "\n",
    "for char in [wizard1, archer1]:\n",
    "    char.attack() # polymorphism -> calling the same function but different output\n",
    "\n",
    "print(isinstance(wizard1, User)) # Check if its the child\n",
    "print(dir(wizard1)) # Provide all that wizard1 has access to\n",
    "'''"
   ]
  },
  {
   "cell_type": "code",
   "execution_count": 39,
   "metadata": {},
   "outputs": [],
   "source": [
    "# Functional Programming - Concept of Pure Functions\n",
    "# -> Don't have to combine data with functions\n",
    "'''\n",
    "Pure functions -> A thing feeds to a function, everytime will return a same output\n",
    "No side effects\n",
    "'''\n",
    "\n",
    "# data\n",
    "wizard = {\n",
    "    'name': 'Merlin',\n",
    "    'power': 50\n",
    "}\n",
    "\n",
    "# pure function\n",
    "def attack(character):\n",
    "    pass"
   ]
  },
  {
   "cell_type": "code",
   "execution_count": 51,
   "metadata": {},
   "outputs": [
    {
     "name": "stdout",
     "output_type": "stream",
     "text": [
      "[2, 4, 6]\n",
      "[1, 3]\n",
      "[(1, 10, 5), (2, 20, 4), (3, 30, 3)]\n",
      "6\n",
      "[2, 4, 6]\n",
      "[1, 3]\n",
      "6\n"
     ]
    }
   ],
   "source": [
    "# map, filter, zip, reduce\n",
    "\n",
    "my_list = [1,2,3]\n",
    "your_list = [10,20,30]\n",
    "their_list = (5,4,3)\n",
    "\n",
    "# map(action, [1,2,3])\n",
    "\n",
    "def multiply_by2(item):\n",
    "    return item*2\n",
    "\n",
    "print(list(map(multiply_by2, my_list))) # Like JavaScript array?.map(() => {}) but python returns map object, so convert to list\n",
    "# maps returns a new list\n",
    "\n",
    "# filter\n",
    "def only_odd(item):\n",
    "    return item % 2 != 0\n",
    "\n",
    "print(list(filter(only_odd, my_list)))\n",
    "\n",
    "# zip\n",
    "print(list(zip(my_list, your_list, their_list))) # like a zipper, zip them together by index to tuple\n",
    "\n",
    "# reduce\n",
    "from functools import reduce\n",
    "\n",
    "def accumulator(acc, item):\n",
    "    acc += item\n",
    "    return acc\n",
    "\n",
    "print(reduce(accumulator, my_list, 0)) # 0 is the initial acc\n",
    "\n",
    "# lambda expressions\n",
    "# similar to JavaScript's anonymous function/arroow function () => {}\n",
    "# lambda param: action(param)\n",
    "# use multiply_by2 as example\n",
    "print(list(map(lambda item: item*2, my_list)))\n",
    "\n",
    "print(list(filter(lambda item: item % 2 != 0, my_list)))\n",
    "\n",
    "print(reduce(lambda acc, item: acc+item, my_list))"
   ]
  },
  {
   "cell_type": "code",
   "execution_count": 57,
   "metadata": {},
   "outputs": [
    {
     "name": "stdout",
     "output_type": "stream",
     "text": [
      "{'b': 4}\n",
      "{1: 2, 2: 4, 3: 6}\n"
     ]
    }
   ],
   "source": [
    "# list comprehension\n",
    "my_list = [char for char in 'hello']\n",
    "# for char in 'hello':\n",
    "#     my_list.append(char)\n",
    "# return ['h', 'e', 'l', 'l', 'o']\n",
    "my_list2 = [num**2 for num in range(0,100) if num % 2 == 0]\n",
    "\n",
    "# set comprehension\n",
    "my_set = {char for char in 'hello'} # return {'h', 'e', 'l', 'l', 'o'}\n",
    "\n",
    "# dictionary comprehension\n",
    "simple_dict = {\n",
    "    'a': 1,\n",
    "    'b': 2\n",
    "}\n",
    "# print(simple_dict.items()) list containing tuple\n",
    "my_dict = {key:value**2 for key,value in simple_dict.items() if value % 2 == 0}\n",
    "print(my_dict)\n",
    "\n",
    "my_dict2 = {num:num*2 for num in [1,2,3]}\n",
    "print(my_dict2)"
   ]
  },
  {
   "cell_type": "code",
   "execution_count": 69,
   "metadata": {},
   "outputs": [
    {
     "name": "stdout",
     "output_type": "stream",
     "text": [
      "***\n",
      "hello\n",
      "***\n",
      "***\n",
      "See you soon :)\n",
      "***\n"
     ]
    }
   ],
   "source": [
    "# decorators\n",
    "# def hello(func):\n",
    "#     func()\n",
    "    \n",
    "# def greet():\n",
    "#     print('still here!')\n",
    "\n",
    "# a = hello(greet)\n",
    "\n",
    "# print(a)\n",
    "\n",
    "# Higher Order Function HOC -> A function that accepts function as param or return a function\n",
    "def greet(func):\n",
    "    func()\n",
    "\n",
    "def greet2():\n",
    "    def func():\n",
    "        return 5\n",
    "    return func\n",
    "\n",
    "# decorators becauser function can act like variables aka first class citizens\n",
    "def my_decorator(func):\n",
    "    def wrap_func(*args, **kwargs):\n",
    "        print(\"***\")\n",
    "        func(*args, **kwargs)\n",
    "        print(\"***\")\n",
    "    return wrap_func\n",
    "\n",
    "@my_decorator\n",
    "def hello():\n",
    "    print('hello')\n",
    "\n",
    "# var = my_decorator(hello)\n",
    "# var()\n",
    "# or my_decorator(hello)()\n",
    "\n",
    "@my_decorator    \n",
    "def bye(greeting, emoji=':)'):\n",
    "    print(greeting, emoji)\n",
    "    \n",
    "hello()\n",
    "bye('See you soon')"
   ]
  },
  {
   "cell_type": "code",
   "execution_count": 74,
   "metadata": {},
   "outputs": [
    {
     "name": "stdout",
     "output_type": "stream",
     "text": [
      "What is your age? 0\n",
      "Please enter an age higher than 0!\n",
      "What is your age? sad\n",
      "Please enter a number, Value Error!\n",
      "What is your age? 123\n",
      "Thank you.\n"
     ]
    }
   ],
   "source": [
    "# Error Handling\n",
    "\n",
    "while True:\n",
    "    try:\n",
    "        age = int(input('What is your age? '))\n",
    "        10/age\n",
    "    except ValueError:\n",
    "        print(\"Please enter a number, Value Error!\")\n",
    "    except ZeroDivisionError:\n",
    "        print(\"Please enter an age higher than 0!\")\n",
    "    except: # Catch all errors\n",
    "        print('Please enter a number!')\n",
    "    else:\n",
    "        print(\"Thank you.\")\n",
    "        break"
   ]
  },
  {
   "cell_type": "code",
   "execution_count": 84,
   "metadata": {},
   "outputs": [
    {
     "name": "stdout",
     "output_type": "stream",
     "text": [
      "unsupported operand type(s) for +: 'int' and 'str'\n",
      "None\n",
      "Multple errors handling\n",
      "division by zero\n",
      "None\n"
     ]
    }
   ],
   "source": [
    "# Error Handling\n",
    "def sum(num1, num2):\n",
    "    try:\n",
    "        return num1 + num2\n",
    "    except TypeError as err:\n",
    "        print(err)\n",
    "\n",
    "print(sum(1, '2'))\n",
    "\n",
    "def sum2(num1, num2):\n",
    "    try:\n",
    "        return num1/num2\n",
    "    except (TypeError, ZeroDivisionError) as err:\n",
    "        print('Multple errors handling')\n",
    "        print(err)\n",
    "\n",
    "print(sum2(1, 0))\n",
    "\n",
    "# raise ValueError(\"Hey cut it out\") -------> Raise own error\n",
    "# raise Exception(\"Hey cut it out\") -------> Raise own error"
   ]
  },
  {
   "cell_type": "code",
   "execution_count": 89,
   "metadata": {},
   "outputs": [
    {
     "name": "stdout",
     "output_type": "stream",
     "text": [
      "4\n"
     ]
    }
   ],
   "source": [
    "# Generators \n",
    "# Generate a sequence of value over time\n",
    "\n",
    "# def make_list(num):\n",
    "#     result = []\n",
    "#     for i in range(num):\n",
    "#         result.append(i*2)\n",
    "#     return result\n",
    "\n",
    "# my_list = make_list(100)\n",
    "\n",
    "def generator_function(num):\n",
    "    for i in range(num):\n",
    "        yield i # pauses the function and comes back to it when we do something, \"next\"\n",
    "\n",
    "g = generator_function(100) # generator object\n",
    "next(g) # 0\n",
    "next(g) # 1\n",
    "print(next(g)) # 2\n",
    "\n",
    "# yield keeps track of the state, and only keep the most recent data in memory"
   ]
  },
  {
   "cell_type": "code",
   "execution_count": 90,
   "metadata": {},
   "outputs": [
    {
     "data": {
      "text/plain": [
       "'\\nUnder the folder - /shopping\\n   -> we have shopping_cart.py\\n\\nTo import shopping_cart.py in main.py\\n   -> import shopping.shopping_cart\\n\\n** After we imported, there will be a \"__init__.py\" generated as it is required in package\\n   -> A file that will be run first automatically\\n   \\nIf /shopping/nested_shopping has shopping_cart.py\\n   -> from shopping.nested_shopping.shopping_cart import func1, func2\\n   -> from shopping.nested_shopping import shopping_cart (import module)\\n   -> import a specific function\\n'"
      ]
     },
     "execution_count": 90,
     "metadata": {},
     "output_type": "execute_result"
    }
   ],
   "source": [
    "# Modules in Python\n",
    "\n",
    "'''\n",
    "Different files we create in python is a modules (with snake_case)\n",
    "   -> for example - utility.py\n",
    "\n",
    "To import utility.py in main.py\n",
    "   -> import utility\n",
    "   -> from utility import func1, func2 (Better import explicitly)\n",
    "   -> from utility import *\n",
    "   \n",
    "pycache will be generated, compiled file that load compiled version .pyc and not .py file -> faster\n",
    "\n",
    "'''\n",
    "\n",
    "# Packages in Python\n",
    "\n",
    "'''\n",
    "Under the folder - /shopping\n",
    "   -> we have shopping_cart.py\n",
    "\n",
    "To import shopping_cart.py in main.py\n",
    "   -> import shopping.shopping_cart\n",
    "\n",
    "** After we imported, there will be a \"__init__.py\" generated as it is required in package\n",
    "   -> A file that will be run first automatically\n",
    "   \n",
    "If /shopping/nested_shopping has shopping_cart.py\n",
    "   -> from shopping.nested_shopping.shopping_cart import func1, func2\n",
    "   -> from shopping.nested_shopping import shopping_cart (import module)\n",
    "   -> import a specific function\n",
    "'''"
   ]
  },
  {
   "cell_type": "code",
   "execution_count": 91,
   "metadata": {},
   "outputs": [
    {
     "data": {
      "text/plain": [
       "'\\nif we print(__name__) in a module (/shopping/nested_shopping/shopping_cart.py)\\n   -> it will return \"shopping.nested_shopping.shopping_cart\"\\n   -> returns the name of the module\\n   \\nmain.py has __name__ of \"__main__\"\\n   -> even if rename main.py as test.py, it is still \"__main__\"\\n   \\nif __name__ == \\'__main__\\':\\n    print(\\'Please run this\\')\\n   -> To make sure that this only runs when it is under the \\'__main__\\'\\n'"
      ]
     },
     "execution_count": 91,
     "metadata": {},
     "output_type": "execute_result"
    }
   ],
   "source": [
    "# __main__\n",
    "\n",
    "'''\n",
    "if we print(__name__) in a module (/shopping/nested_shopping/shopping_cart.py)\n",
    "   -> it will return \"shopping.nested_shopping.shopping_cart\"\n",
    "   -> returns the name of the module\n",
    "   \n",
    "main.py has __name__ of \"__main__\"\n",
    "   -> even if rename main.py as test.py, it is still \"__main__\"\n",
    "   \n",
    "if __name__ == '__main__':\n",
    "    print('Please run this')\n",
    "   -> To make sure that this only runs when it is under the '__main__'\n",
    "'''"
   ]
  },
  {
   "cell_type": "code",
   "execution_count": 92,
   "metadata": {},
   "outputs": [
    {
     "data": {
      "text/plain": [
       "'\\nimport sys\\nsys.argv\\n\\n---\\nwhen we do cmd, python3 test.py tc lin\\n   -> sys.argv[1] => tc\\n   -> sys.argv[2] => lin\\n   -> sys.argv[0] => this is the filename\\n'"
      ]
     },
     "execution_count": 92,
     "metadata": {},
     "output_type": "execute_result"
    }
   ],
   "source": [
    "# Python Built-in Module\n",
    "\n",
    "# sys\n",
    "'''\n",
    "import sys\n",
    "sys.argv\n",
    "\n",
    "---\n",
    "when we do cmd, python3 test.py tc lin\n",
    "   -> sys.argv[1] => tc\n",
    "   -> sys.argv[2] => lin\n",
    "   -> sys.argv[0] => this is the filename\n",
    "'''"
   ]
  },
  {
   "cell_type": "code",
   "execution_count": 93,
   "metadata": {},
   "outputs": [],
   "source": [
    "# Debugging\n",
    "\n",
    "# import pdb\n",
    "# pdb.set_trace() -> can access variable in command line\n",
    "# -> \"step\" goes to next line\n",
    "# -> \"a\" gives all the arguments in current function\n",
    "# -> \"w\" shows all the info"
   ]
  },
  {
   "cell_type": "code",
   "execution_count": 111,
   "metadata": {},
   "outputs": [
    {
     "name": "stdout",
     "output_type": "stream",
     "text": [
      "['New line written']\n"
     ]
    }
   ],
   "source": [
    "# File I/O\n",
    "\n",
    "# open \n",
    "'''\n",
    "filename = 'fileio_example.txt'\n",
    "try:\n",
    "    file = open(filename, 'r')\n",
    "    print('File already exists.')\n",
    "except IOError:\n",
    "    file = open(filename, 'w+')\n",
    "    print(filename, 'created.')\n",
    "    \n",
    "file = open(filename)\n",
    "print(file.read()) # Printed first time\n",
    "print(file.read()) # Cursor ended, so empty\n",
    "file.seek(0) # Moves cursor back\n",
    "print(file.read())\n",
    "file.seek(0)\n",
    "\n",
    "print('readline()',file.readline()) # Gets first line\n",
    "print('readline()',file.readline()) # Gets second line\n",
    "\n",
    "file.seek(0)\n",
    "print('readlines()',file.readlines()) # Reads entire file\n",
    "\n",
    "# We HAVE to manually close the file so we can use it somewhere else\n",
    "file.close()\n",
    "'''\n",
    "# A BETTER way to do the above ==> do NOT need to 'close()'\n",
    "with open('fileio_example.txt', mode='r+') as file: \n",
    "    # mode 'r' -> able to read\n",
    "    # mode 'w' -> write\n",
    "    # mode 'r+' -> read & write\n",
    "    # mode 'a' -> append (appends to the end of the file)\n",
    "    \n",
    "    file.truncate(0) # clear file content\n",
    "    text = file.write('New line written')\n",
    "    file.seek(0)\n",
    "    print(file.readlines()) # with mode as r\n"
   ]
  },
  {
   "cell_type": "code",
   "execution_count": 112,
   "metadata": {},
   "outputs": [
    {
     "data": {
      "text/plain": [
       "'\\nexcept FileNotFoundError as err:\\n    print(\"File does not exist.\")\\n    raise err\\nexcept IOError as err\\n    print(\"IO Error\")\\n    raise err\\n'"
      ]
     },
     "execution_count": 112,
     "metadata": {},
     "output_type": "execute_result"
    }
   ],
   "source": [
    "# FileIO errors\n",
    "'''\n",
    "except FileNotFoundError as err:\n",
    "    print(\"File does not exist.\")\n",
    "    raise err\n",
    "except IOError as err\n",
    "    print(\"IO Error\")\n",
    "    raise err\n",
    "'''"
   ]
  },
  {
   "cell_type": "code",
   "execution_count": 132,
   "metadata": {},
   "outputs": [
    {
     "name": "stdout",
     "output_type": "stream",
     "text": [
      "(17, 21)\n",
      "17\n",
      "21\n",
      "this\n",
      "['this', 'this']\n",
      "None\n",
      "None\n"
     ]
    }
   ],
   "source": [
    "# Regular Expression - REGEX\n",
    "\n",
    "import re\n",
    "\n",
    "pattern = re.compile('this')\n",
    "string = \"search inside of this text please. this\"\n",
    "\n",
    "# search(pattern, string, flag)\n",
    "# test = re.search('this', string) \n",
    "test = pattern.search(string)\n",
    "print(test.span()) # Tells where the string occurs\n",
    "print(test.start()) # Tells where the string starts\n",
    "print(test.end()) # Tells where the string ends\n",
    "print(test.group()) # Returns the part that matches\n",
    "\n",
    "testb = pattern.findall(string) # Get all instances of 'this'\n",
    "print(testb)\n",
    "\n",
    "testc = pattern.fullmatch(string) # Need to match EXACT string\n",
    "print(testc)\n",
    "\n",
    "testd = pattern.match(string) # As logn as it matches\n",
    "print(testd)\n",
    "\n",
    "# -------------------- #\n",
    "\n",
    "# For special pattern, can go on to regular expression 101\n",
    "# pattern = re.compile(r\"\\([a-zA-Z]).([a])\") # r is raw string, just pure string\n",
    "# Searching for a letter, followed by anything, followed by a\n"
   ]
  },
  {
   "cell_type": "code",
   "execution_count": 131,
   "metadata": {},
   "outputs": [
    {
     "data": {
      "text/plain": [
       "\"\\ndef do_stuff(num):\\n    try:\\n        return int(num) + 5\\n    except ValueError as err:\\n#         raise err\\n        return err\\n# Unit Test -> test.py\\nimport unittest\\n# import main -> import the functions/file that you want to test\\n\\nclass TestMain(unittest.TestCase):\\n    def test_do_stuff(self):\\n        test_param = 10\\n        result = do_stuff(test_param) # the function that we want to test\\n        self.assertEqual(result, 15) # Make sure the two params are equal\\n        \\n    def test_do_stuff2(self):\\n        test_param = 'asasewr'\\n        result = do_stuff(test_param) # the function that we want to test\\n        self.assertEqual(result, ValueError) # Make sure the two params are equal\\n        \\nunittest.main() # runs the entire test file\\n\""
      ]
     },
     "execution_count": 131,
     "metadata": {},
     "output_type": "execute_result"
    }
   ],
   "source": [
    "# Testing in Python\n",
    "\n",
    "# We usually have a test file accompanying with a python file\n",
    "# Never run in production\n",
    "\n",
    "# Python file -> main.py\n",
    "'''\n",
    "def do_stuff(num):\n",
    "    try:\n",
    "        return int(num) + 5\n",
    "    except ValueError as err:\n",
    "#         raise err\n",
    "        return err\n",
    "# Unit Test -> test.py\n",
    "import unittest\n",
    "# import main -> import the functions/file that you want to test\n",
    "\n",
    "class TestMain(unittest.TestCase):\n",
    "    def test_do_stuff(self):\n",
    "        test_param = 10\n",
    "        result = do_stuff(test_param) # the function that we want to test\n",
    "        self.assertEqual(result, 15) # Make sure the two params are equal\n",
    "        \n",
    "    def test_do_stuff2(self):\n",
    "        test_param = 'asasewr'\n",
    "        result = do_stuff(test_param) # the function that we want to test\n",
    "        self.assertTrue(isinstance(result, ValueError)) # Make sure the two params are equal\n",
    "        \n",
    "unittest.main() # runs the entire test file\n",
    "'''"
   ]
  }
 ],
 "metadata": {
  "kernelspec": {
   "display_name": "Python 3",
   "language": "python",
   "name": "python3"
  },
  "language_info": {
   "codemirror_mode": {
    "name": "ipython",
    "version": 3
   },
   "file_extension": ".py",
   "mimetype": "text/x-python",
   "name": "python",
   "nbconvert_exporter": "python",
   "pygments_lexer": "ipython3",
   "version": "3.8.5"
  }
 },
 "nbformat": 4,
 "nbformat_minor": 4
}
