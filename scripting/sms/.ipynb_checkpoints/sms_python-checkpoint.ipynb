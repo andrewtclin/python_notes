{
 "cells": [
  {
   "cell_type": "code",
   "execution_count": 6,
   "metadata": {},
   "outputs": [
    {
     "name": "stdout",
     "output_type": "stream",
     "text": [
      "SM71996090eb3e9f9eb982a640c63a0a29\n"
     ]
    }
   ],
   "source": [
    "# SMS with Python\n",
    "# We use twilio\n",
    "\n",
    "import os\n",
    "from twilio.rest import Client\n",
    "\n",
    "# Set environment variables for your credentials\n",
    "# Read more at http://twil.io/secure\n",
    "account_sid = \"ACb346c20a41a853df4545d09a67f5998f\"\n",
    "auth_token = os.environ[\"TWILIO_AUTH_TOKEN\"]\n",
    "client = Client(account_sid, auth_token)\n",
    "\n",
    "message = client.messages.create(\n",
    "  body=\"Hello Message\",\n",
    "  from_=\"+16506634362\",\n",
    "  to=\"+886975206418\"\n",
    ")\n",
    "\n",
    "print(message.sid)"
   ]
  },
  {
   "cell_type": "code",
   "execution_count": null,
   "metadata": {},
   "outputs": [],
   "source": []
  }
 ],
 "metadata": {
  "kernelspec": {
   "display_name": "Python [conda env:scripting_playground]",
   "language": "python",
   "name": "conda-env-scripting_playground-py"
  },
  "language_info": {
   "codemirror_mode": {
    "name": "ipython",
    "version": 3
   },
   "file_extension": ".py",
   "mimetype": "text/x-python",
   "name": "python",
   "nbconvert_exporter": "python",
   "pygments_lexer": "ipython3",
   "version": "3.10.8"
  }
 },
 "nbformat": 4,
 "nbformat_minor": 4
}
