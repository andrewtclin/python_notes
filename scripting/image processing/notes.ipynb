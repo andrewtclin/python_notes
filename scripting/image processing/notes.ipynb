{
 "cells": [
  {
   "cell_type": "code",
   "execution_count": 13,
   "metadata": {},
   "outputs": [
    {
     "name": "stdout",
     "output_type": "stream",
     "text": [
      "JPEG\n",
      "(640, 640)\n",
      "RGB\n"
     ]
    }
   ],
   "source": [
    "from PIL import Image, ImageFilter\n",
    "\n",
    "'''\n",
    "img = Image.open('./images/pokedex/pikachu.jpg')\n",
    "# dir(img) -> Everything we can do\n",
    "print(img.format) # Format -> JPEG\n",
    "print(img.size) # 640, 640\n",
    "print(img.mode) # RGB\n",
    "\n",
    "filtered_img = img.filter(ImageFilter.BLUR) # Blur the image\n",
    "filtered_img.save(\"./pokedex/blur_pikachu.png\", 'png') # save the blurred image\n",
    "\n",
    "smooth_img = img.filter(ImageFilter.SMOOTH) # Smoothen the image\n",
    "smooth_img.save(\"./pokedex/smooth_pikachu.png\", 'png') # save the smoothened image\n",
    "# SHARPEN\n",
    "\n",
    "convert_img = img.convert('L') # Gray scale\n",
    "convert_img.save(\"./images/pokedex/gray_pikachu.png\", 'png')\n",
    "'''\n",
    "# convert_img.show() -> Opens up the image file\n",
    "# convert_img.rotate(90) -> Rotate image by 90 degree\n",
    "\n",
    "# resize_img = img.resize((300,300)) -> Resize (Accepts a tuple)\n",
    "\n",
    "# crop_box = (100, 100, 400, 400)\n",
    "# crop_region_img = img.crop(box)\n"
   ]
  },
  {
   "cell_type": "code",
   "execution_count": 19,
   "metadata": {},
   "outputs": [
    {
     "name": "stdout",
     "output_type": "stream",
     "text": [
      "(5611, 5339)\n"
     ]
    }
   ],
   "source": [
    "img = Image.open('./images/large_images/astro.jpg')\n",
    "print(img.size) # 5611, 5339\n",
    "\n",
    "# new_img = img.resize((400,400)) # But this lost aspect ratio\n",
    "# img.thumbnail((400,400)) # Keep aspect ratio, but this MODIFIES the original one\n",
    "# img.save('./images/large_images/thumbnail_astro.jpg')"
   ]
  },
  {
   "cell_type": "code",
   "execution_count": 20,
   "metadata": {},
   "outputs": [],
   "source": [
    "# Image Processing is similar to Video Processing"
   ]
  },
  {
   "cell_type": "code",
   "execution_count": null,
   "metadata": {},
   "outputs": [],
   "source": [
    "# OpenCV\n",
    "# -> Use with Machine Learning\n",
    "# -> A very POWERFUL"
   ]
  }
 ],
 "metadata": {
  "kernelspec": {
   "display_name": "Python 3",
   "language": "python",
   "name": "python3"
  },
  "language_info": {
   "codemirror_mode": {
    "name": "ipython",
    "version": 3
   },
   "file_extension": ".py",
   "mimetype": "text/x-python",
   "name": "python",
   "nbconvert_exporter": "python",
   "pygments_lexer": "ipython3",
   "version": "3.8.5"
  }
 },
 "nbformat": 4,
 "nbformat_minor": 4
}
