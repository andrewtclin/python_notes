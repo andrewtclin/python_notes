{
 "cells": [
  {
   "cell_type": "code",
   "execution_count": null,
   "metadata": {},
   "outputs": [],
   "source": [
    "# Sending Emails with Python\n",
    "\n",
    "import smtplib \n",
    "# Create smtp server (Simple Mail Transfer Protocol)\n",
    "# A standard for email to be sent from computer to computer\n",
    "\n",
    "from email.message import EmailMessage\n",
    "\n",
    "from string import Template # We can substitute variable inside a text\n",
    "from pathlib import Path # similar to os.path\n",
    "\n",
    "html = Template(Path('index.html').read_text()) # Read it as text so that python can replace\n",
    "\n",
    "email = EmailMessage()\n",
    "email['from'] = 'Sender' # Sender\n",
    "email['to'] = 'Receiver@Email.com' # Receiver\n",
    "email['subject'] = 'Subject of the email'\n",
    "\n",
    "email.set_content(html.substitue({'name'='ABC'}), 'html') # Content of the email\n",
    "\n",
    "# Use SMTP to login & to send\n",
    "with smtplib.SMTP(host='smtp.gmail.com', port=587) as smtp: # port 587 is just the standard way to be run\n",
    "    smtp.ehlo() # Hello message to the server\n",
    "    smtp.starttls() # TLS is an encryption method, connect securely to the server\n",
    "    smtp.login('abc@gmail.com', 'password') # Login Credentials\n",
    "    smtp.send_message(email)\n",
    "    print('Email Sent.')"
   ]
  },
  {
   "cell_type": "code",
   "execution_count": null,
   "metadata": {},
   "outputs": [],
   "source": [
    "# Use HTML Content\n",
    "'''\n",
    "<body>\n",
    "    This is a email from $name. ---> $name can be updated with python variable\n",
    "</body>\n",
    "'''"
   ]
  }
 ],
 "metadata": {
  "kernelspec": {
   "display_name": "Python [conda env:scripting_playground]",
   "language": "python",
   "name": "conda-env-scripting_playground-py"
  },
  "language_info": {
   "codemirror_mode": {
    "name": "ipython",
    "version": 3
   },
   "file_extension": ".py",
   "mimetype": "text/x-python",
   "name": "python",
   "nbconvert_exporter": "python",
   "pygments_lexer": "ipython3",
   "version": "3.10.8"
  }
 },
 "nbformat": 4,
 "nbformat_minor": 4
}
