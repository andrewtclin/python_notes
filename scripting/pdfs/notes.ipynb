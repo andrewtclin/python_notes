{
 "cells": [
  {
   "cell_type": "code",
   "execution_count": 11,
   "metadata": {},
   "outputs": [
    {
     "name": "stdout",
     "output_type": "stream",
     "text": [
      "1\n",
      "{'/Type': '/Page', '/Parent': IndirectObject(4, 0, 1749982092864), '/Resources': IndirectObject(11, 0, 1749982092864), '/MediaBox': [0, 0, 595, 842], '/Group': {'/S': '/Transparency', '/CS': '/DeviceRGB', '/I': True}, '/Contents': IndirectObject(2, 0, 1749982092864)}\n"
     ]
    }
   ],
   "source": [
    "import PyPDF2\n",
    "\n",
    "with open('./pdf_files/dummy.pdf', 'rb') as file: \n",
    "    # 'rb' is to read binary\n",
    "    #  -> Creates file stream object & convert file into binary\n",
    "    reader = PyPDF2.PdfFileReader(file) \n",
    "    print(reader.numPages) # return the number of pages\n",
    "    \n",
    "    print(reader.getPage(0)) # Get the first page\n",
    "    \n",
    "    # to rotate\n",
    "    page = reader.getPage(0)\n",
    "    page.rotateCounterClockwise(90)\n",
    "    writer = PyPDF2.PdfFileWriter()\n",
    "    writer.addPage(page)\n",
    "    \n",
    "    with open('./pdf_files/tilt_dummy.pdf', 'wb') as tilted_file:\n",
    "        # write as binary format\n",
    "        writer.write(tilted_file)"
   ]
  },
  {
   "cell_type": "code",
   "execution_count": 12,
   "metadata": {},
   "outputs": [
    {
     "name": "stdout",
     "output_type": "stream",
     "text": [
      "-f\n",
      "C:\\Users\\linta\\AppData\\Roaming\\jupyter\\runtime\\kernel-82680258-73c0-4dac-a3a4-99e6bee371a4.json\n"
     ]
    }
   ],
   "source": [
    "# Combine PDF\n",
    "import sys\n",
    "\n",
    "inputs = sys.argv[1:] \n",
    "# Grabs all the arguments from command line excluding the first one\n",
    "# Call this .py file in command line followed by pdfs\n",
    "\n",
    "def pdf_combiner(pdf_list):\n",
    "    merger = PyPDF.PdfFileMerger()\n",
    "    for pdf in pdf_list:\n",
    "        print(pdf)\n",
    "        merger.append(pdf)\n",
    "    merger.write('merged_pdf.pdf')\n",
    "        \n",
    "pdf_combiner(inputs)"
   ]
  },
  {
   "cell_type": "code",
   "execution_count": 16,
   "metadata": {},
   "outputs": [],
   "source": [
    "# Watermark\n",
    "\n",
    "template = PyPDF2.PdfFileReader(open('./pdf_files/dummy.pdf', 'rb'))\n",
    "watermark = PyPDF2.PdfFileReader(open('./pdf_files/wtr.pdf', 'rb'))\n",
    "\n",
    "output = PyPDF2.PdfFileWriter()\n",
    "\n",
    "for i in range(template.getNumPages()):\n",
    "    page = template.getPage(i)\n",
    "    page.mergePage(watermark.getPage(0))\n",
    "    output.addPage(page)\n",
    "    \n",
    "    with open('./pdf_files/watermarked_output.pdf', 'wb') as file:\n",
    "        output.write(file)"
   ]
  },
  {
   "cell_type": "code",
   "execution_count": null,
   "metadata": {},
   "outputs": [],
   "source": []
  }
 ],
 "metadata": {
  "kernelspec": {
   "display_name": "Python [conda env:image_processing]",
   "language": "python",
   "name": "conda-env-image_processing-py"
  },
  "language_info": {
   "codemirror_mode": {
    "name": "ipython",
    "version": 3
   },
   "file_extension": ".py",
   "mimetype": "text/x-python",
   "name": "python",
   "nbconvert_exporter": "python",
   "pygments_lexer": "ipython3",
   "version": "3.10.8"
  }
 },
 "nbformat": 4,
 "nbformat_minor": 4
}
