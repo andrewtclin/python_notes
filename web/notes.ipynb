{
 "cells": [
  {
   "cell_type": "code",
   "execution_count": null,
   "metadata": {},
   "outputs": [],
   "source": [
    "# Flask\n",
    "\n",
    "from flask import Flask, render_template, url_for\n",
    "# render_template allows us to send html file\n",
    "\n",
    "# Use Flask to instantiate the app\n",
    "\n",
    "app = Flask(__name__) # __name__ is \"__main__\" in this case as this is the main file that we are running\n",
    "\n",
    "# Static file means that it is the file that is NEVER going to change\n",
    "#  -> We need to create a 'static' folder\n",
    "\n",
    "\n",
    "@app.route('/') # decorator - In this case, anytime we hit \"/\", define this function and run\n",
    "def home():\n",
    "    render_template('index.html') # but render_template looks for a folder called template\n",
    "\n",
    "@app.route('/about')\n",
    "def about():\n",
    "    render_template('about.html') # template/about.html\n",
    "    \n",
    "# To run flask, create environment variable in windows\n",
    "#  -> set FLASK_APP = 'python file'\n",
    "#  -> flask run\n",
    "#  -> to use debug mode, FLASK_ENV = development\n",
    "\n",
    "# in html:\n",
    "'''\n",
    "{{ this expresses python code }} -> this uses templating language - jinja\n",
    "  -> <link rel='shortcut icon' href='{{url_for('static', filename='bolt.ico')}}' -- changes favicon, \"url_for\" from import\n",
    "'''\n",
    "\n",
    "# url parameter\n",
    "'''\n",
    "@app.route('user/<username>')\n",
    "  -> able to read url and pass to html\n",
    "  \n",
    "@app.route('user/<username>/<int:post_id>')\n",
    "  ->   def func(username=None, post_id=None):\n",
    "  -> pass in: return render_template(index.html, name=username, post_id=post_id)\n",
    "  -> add to html: {{name, post_id}}\n",
    "'''\n",
    "\n",
    "# MIME type and Content-type of Web\n",
    "#  -> Determine how to process the url by the browser"
   ]
  }
 ],
 "metadata": {
  "kernelspec": {
   "display_name": "Python [conda env:web_playground]",
   "language": "python",
   "name": "conda-env-web_playground-py"
  },
  "language_info": {
   "codemirror_mode": {
    "name": "ipython",
    "version": 3
   },
   "file_extension": ".py",
   "mimetype": "text/x-python",
   "name": "python",
   "nbconvert_exporter": "python",
   "pygments_lexer": "ipython3",
   "version": "3.10.8"
  }
 },
 "nbformat": 4,
 "nbformat_minor": 4
}
