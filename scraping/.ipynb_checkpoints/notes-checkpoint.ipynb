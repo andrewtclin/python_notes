{
 "cells": [
  {
   "cell_type": "code",
   "execution_count": 1,
   "metadata": {},
   "outputs": [],
   "source": [
    "# Scraping Data from websites\n",
    "\n",
    "# There is a way that the website tells you what you can and can't scrape\n",
    "#  -> At the end of url, add \"/robots.txt\" -> Ethical way"
   ]
  },
  {
   "cell_type": "code",
   "execution_count": 2,
   "metadata": {},
   "outputs": [],
   "source": [
    "# Hacker News Project\n",
    "#  -> Scrape data > 100 points\n",
    "\n",
    "# Library: Beautiful Soup -> To scrape website\n",
    "# A powerful framework -> scrappy (For massive scrapping)"
   ]
  },
  {
   "cell_type": "code",
   "execution_count": 94,
   "metadata": {},
   "outputs": [
    {
     "data": {
      "text/plain": [
       "[{'title': 'US Department of Energy: Fusion Ignition Achieved (energy.gov)',\n",
       "  'link': 'https://www.energy.gov/articles/doe-national-laboratory-makes-history-achieving-fusion-ignition',\n",
       "  'votes': 1981},\n",
       " {'title': 'LosslessCut: lossless video/audio editing (mifi.no)',\n",
       "  'link': 'https://mifi.no/losslesscut/',\n",
       "  'votes': 520},\n",
       " {'title': 'The United States of America vs. Samuel Bankman-Fried Indictment [pdf] (justice.gov)',\n",
       "  'link': 'https://www.justice.gov/usao-sdny/press-release/file/1557571/download',\n",
       "  'votes': 516},\n",
       " {'title': 'After 20 years the Dwarf Fortress devs have to get used to being millionaires (pcgamer.com)',\n",
       "  'link': 'https://www.pcgamer.com/after-spending-20-years-simulating-reality-the-dwarf-fortress-devs-have-to-get-used-to-a-new-one-being-millionaires/',\n",
       "  'votes': 414},\n",
       " {'title': 'Shutting down our unencrypted public DNS service (mullvad.net)',\n",
       "  'link': 'https://mullvad.net/en/blog/2022/12/13/shutting-down-our-unencrypted-public-dns-service/',\n",
       "  'votes': 243},\n",
       " {'title': 'Tips for analyzing logs (jvns.ca)',\n",
       "  'link': 'https://jvns.ca/blog/2022/12/07/tips-for-analyzing-logs/',\n",
       "  'votes': 235},\n",
       " {'title': 'Show HN: We scaled Git to support 1 TB repos (xethub.com)',\n",
       "  'link': 'https://xethub.com/user/login',\n",
       "  'votes': 232},\n",
       " {'title': \"Reddit's photo albums broke due to Integer overflow of Signed Int32 (reddit.com)\",\n",
       "  'link': 'https://old.reddit.com/r/shittychangelog/comments/zl5gaz/here_at_reddit_we_believe_everything_is_better_in/',\n",
       "  'votes': 230},\n",
       " {'title': \"Userspace isn't slow, some kernel interfaces are (tailscale.com)\",\n",
       "  'link': 'https://tailscale.com/blog/throughput-improvements/',\n",
       "  'votes': 202},\n",
       " {'title': 'Mars Now (nasa.gov)',\n",
       "  'link': 'https://mars.nasa.gov/explore/mars-now/',\n",
       "  'votes': 187},\n",
       " {'title': 'The best things and stuff of 2022 (fogus.me)',\n",
       "  'link': 'http://blog.fogus.me/2022/12/13/the-best-things-and-stuff-of-2022/',\n",
       "  'votes': 171},\n",
       " {'title': 'Pony Programming Language (github.com/ponylang)',\n",
       "  'link': 'https://github.com/ponylang/ponyc',\n",
       "  'votes': 171},\n",
       " {'title': 'Balloon framing is worse-is-better (2021) (constructionphysics.substack.com)',\n",
       "  'link': 'https://constructionphysics.substack.com/p/balloon-framing-is-worse-is-better',\n",
       "  'votes': 167},\n",
       " {'title': 'How to rebuild social media on top of RSS (tfos.co)',\n",
       "  'link': 'https://tfos.co/p/rebuild-social-media/',\n",
       "  'votes': 155},\n",
       " {'title': 'SQLite-loadable-rs: A framework for building SQLite Extensions in Rust (observablehq.com)',\n",
       "  'link': 'https://observablehq.com/@asg017/introducing-sqlite-loadable-rs',\n",
       "  'votes': 152},\n",
       " {'title': 'About the security content of iOS 16.2 and iPadOS 16.2 (support.apple.com)',\n",
       "  'link': 'https://support.apple.com/en-gb/HT213530',\n",
       "  'votes': 148},\n",
       " {'title': 'Yerba Mate – A Long but Current History (2021) (nih.gov)',\n",
       "  'link': 'https://www.ncbi.nlm.nih.gov/pmc/articles/PMC8622869/',\n",
       "  'votes': 134},\n",
       " {'title': 'A software change allowed FTX to use client money (reuters.com)',\n",
       "  'link': 'https://www.reuters.com/technology/how-secret-software-change-allowed-ftx-use-client-money-2022-12-13/',\n",
       "  'votes': 127}]"
      ]
     },
     "execution_count": 94,
     "metadata": {},
     "output_type": "execute_result"
    }
   ],
   "source": [
    "import requests\n",
    "from bs4 import BeautifulSoup # Use HTML to grab data\n",
    "\n",
    "response = requests.get('https://news.ycombinator.com/') # GET Request\n",
    "\n",
    "# Use beautiful soup to parse\n",
    "soup = BeautifulSoup(response.text, 'html.parser') # We can then get soup.body, soup.body.contents\n",
    "\n",
    "# soup.a, soup.div, soup.find, soup.find_all, soup.find(id='abcde')\n",
    "# print(soup.find('a'))\n",
    "\n",
    "# One of the best way to use soup object is selector - css selector\n",
    "#  -> soup.select('a'), if classname => soup.select('.classnameABC'), if id name => soup.select('#idnameABC')\n",
    "\n",
    "links = soup.select('.titleline')\n",
    "subtext = soup.select('.subtext')\n",
    "# To get attribute value => votes[0].get('id')\n",
    "\n",
    "def sort_stories_by_votes(hn_list):\n",
    "    return sorted(hn_list, key=lambda k:k['votes'], reverse=True) # hn_list is dictionary not list, so we need second param\n",
    " \n",
    "def create_custom_hn(links, subtext):\n",
    "    hn = []\n",
    "    for idx, item in enumerate(links):\n",
    "        title = links[idx].getText()\n",
    "        href = links[idx].select('a')[0].get('href', None)\n",
    "        vote = subtext[idx].select('.score')\n",
    "        if len(vote):\n",
    "            points = int(vote[0].getText().replace(' points', ''))\n",
    "            if points >= 100:\n",
    "                hn.append({'title': title, 'link': href, 'votes':points})\n",
    "    return sort_stories_by_votes(hn)\n",
    "\n",
    "create_custom_hn(links, subtext)"
   ]
  },
  {
   "cell_type": "code",
   "execution_count": null,
   "metadata": {},
   "outputs": [],
   "source": [
    "# A powerful framework -> scrappy"
   ]
  }
 ],
 "metadata": {
  "kernelspec": {
   "display_name": "Python [conda env:scraping_playground]",
   "language": "python",
   "name": "conda-env-scraping_playground-py"
  },
  "language_info": {
   "codemirror_mode": {
    "name": "ipython",
    "version": 3
   },
   "file_extension": ".py",
   "mimetype": "text/x-python",
   "name": "python",
   "nbconvert_exporter": "python",
   "pygments_lexer": "ipython3",
   "version": "3.10.8"
  }
 },
 "nbformat": 4,
 "nbformat_minor": 4
}
