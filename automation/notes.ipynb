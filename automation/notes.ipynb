{
 "cells": [
  {
   "cell_type": "code",
   "execution_count": 2,
   "metadata": {},
   "outputs": [
    {
     "name": "stderr",
     "output_type": "stream",
     "text": [
      "C:\\Users\\linta\\AppData\\Local\\Temp\\ipykernel_1084\\1887532335.py:7: DeprecationWarning: executable_path has been deprecated, please pass in a Service object\n",
      "  chrome_browser = webdriver.Chrome('./chromedriver') # Create instance of chrome browser object\n"
     ]
    }
   ],
   "source": [
    "# Selenium - For automation/testing\n",
    "#  -> Mimick human actions\n",
    "\n",
    "from selenium import webdriver\n",
    "# Drivers - Selenium works with driver as different browser has different driver\n",
    "\n",
    "chrome_browser = webdriver.Chrome('./chromedriver') # Create instance of chrome browser object"
   ]
  },
  {
   "cell_type": "code",
   "execution_count": 3,
   "metadata": {},
   "outputs": [
    {
     "ename": "AssertionError",
     "evalue": "",
     "output_type": "error",
     "traceback": [
      "\u001b[1;31m---------------------------------------------------------------------------\u001b[0m",
      "\u001b[1;31mAssertionError\u001b[0m                            Traceback (most recent call last)",
      "Cell \u001b[1;32mIn[3], line 5\u001b[0m\n\u001b[0;32m      2\u001b[0m chrome_browser\u001b[38;5;241m.\u001b[39mmaximize_window() \u001b[38;5;66;03m# Maximize window\u001b[39;00m\n\u001b[0;32m      3\u001b[0m chrome_browser\u001b[38;5;241m.\u001b[39mget(\u001b[38;5;124m'\u001b[39m\u001b[38;5;124mhttps://www.seleniumeasy.com/test/basic-first-form-demo.html\u001b[39m\u001b[38;5;124m'\u001b[39m) \u001b[38;5;66;03m# go into the url\u001b[39;00m\n\u001b[1;32m----> 5\u001b[0m \u001b[38;5;28;01massert\u001b[39;00m \u001b[38;5;124m'\u001b[39m\u001b[38;5;124mSelenium Easy Demo\u001b[39m\u001b[38;5;124m'\u001b[39m \u001b[38;5;129;01min\u001b[39;00m chrome_browser\u001b[38;5;241m.\u001b[39mtitle \u001b[38;5;66;03m# assert returns True/False\u001b[39;00m\n\u001b[0;32m      6\u001b[0m \u001b[38;5;66;03m# assert 'Selenium Easy Demo' in chrome_browser.body\u001b[39;00m\n\u001b[0;32m      7\u001b[0m \n\u001b[0;32m      8\u001b[0m \u001b[38;5;66;03m# Selectors - Grab items from the page, by id, by classname, by tag\u001b[39;00m\n\u001b[0;32m      9\u001b[0m button_text \u001b[38;5;241m=\u001b[39m chrome_driver\u001b[38;5;241m.\u001b[39mfind_element_by_class_name(\u001b[38;5;124m'\u001b[39m\u001b[38;5;124mbtn-default\u001b[39m\u001b[38;5;124m'\u001b[39m)\n",
      "\u001b[1;31mAssertionError\u001b[0m: "
     ]
    }
   ],
   "source": [
    "# We will use selenium easy for testing\n",
    "chrome_browser.maximize_window() # Maximize window\n",
    "chrome_browser.get('https://www.seleniumeasy.com/test/basic-first-form-demo.html') # go into the url\n",
    "\n",
    "assert 'Selenium Easy Demo' in chrome_browser.title # assert returns True/False\n",
    "# assert 'Selenium Easy Demo' in chrome_browser.body\n",
    "\n",
    "# Selectors - Grab items from the page, by id, by classname, by tag\n",
    "show_message_button = chrome_driver.find_element_by_class_name('btn-default')\n",
    "# show_message_button.getAttribute('innerHTML') # eg. 'Show Message'\n",
    "\n",
    "# Grab input and click button\n",
    "assert 'Show Message' in chrome_browser.page_source # To make sure button show message exists\n",
    "\n",
    "user_message = chrome_browser.find_element_by_id('user-message')\n",
    "user_button_2 = chrome_browser.find_element_by_css_selector('#get-input .btn') # '#' stands for id, '.' stands for css class\n",
    "\n",
    "user_message.clear() # Clear the input to make sure\n",
    "user_mesage.send_keys('I am the input message')\n",
    "\n",
    "show_message_button.click()\n",
    "\n",
    "output_message = chrome_browser.find_element_by_id('display')\n",
    "assert 'I am the input message' in output_message.text # To assert that it exists/ getAttribute('innerHTML') works \n",
    "\n",
    "chrome_browser.close() # close the current window\n",
    "chrome_browser.quit() # quit all chrome driver, all browsers\n",
    "\n",
    "# \"wait\" can slow down the process"
   ]
  },
  {
   "cell_type": "code",
   "execution_count": null,
   "metadata": {},
   "outputs": [],
   "source": []
  }
 ],
 "metadata": {
  "kernelspec": {
   "display_name": "Python [conda env:automation_playground]",
   "language": "python",
   "name": "conda-env-automation_playground-py"
  },
  "language_info": {
   "codemirror_mode": {
    "name": "ipython",
    "version": 3
   },
   "file_extension": ".py",
   "mimetype": "text/x-python",
   "name": "python",
   "nbconvert_exporter": "python",
   "pygments_lexer": "ipython3",
   "version": "3.10.8"
  }
 },
 "nbformat": 4,
 "nbformat_minor": 4
}
